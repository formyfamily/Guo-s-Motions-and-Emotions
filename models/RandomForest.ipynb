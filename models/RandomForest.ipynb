{
 "cells": [
  {
   "cell_type": "code",
   "execution_count": 4,
   "metadata": {},
   "outputs": [],
   "source": [
    "from __future__ import print_function\n",
    "from __future__ import division\n",
    "\n",
    "import numpy as np\n",
    "import pandas as pd\n",
    "from sklearn import preprocessing\n",
    "from sklearn.ensemble import RandomForestRegressor\n",
    "from sklearn.tree import DecisionTreeRegressor\n",
    "from sklearn.metrics import mean_squared_error\n",
    "from sklearn.feature_selection import SelectKBest, VarianceThreshold\n",
    "from sklearn.feature_selection import f_regression\n",
    "from scipy.stats import pearsonr"
   ]
  },
  {
   "cell_type": "code",
   "execution_count": 41,
   "metadata": {},
   "outputs": [
    {
     "name": "stdout",
     "output_type": "stream",
     "text": [
      "(5274, 647)\n"
     ]
    }
   ],
   "source": [
    "dev_visual_features = np.load('../data/dev_visual_features.npy')\n",
    "dev_annotations = np.load('../data/dev_annotations.npy')\n",
    "dev_visual_features = preprocessing.minmax_scale(dev_visual_features, feature_range=(0, 1), axis=0)\n",
    "\n",
    "variance_selection = VarianceThreshold(threshold=0.01)\n",
    "bestk_selection_0 = SelectKBest(f_regression, k=100)\n",
    "bestk_selection_1 = SelectKBest(f_regression, k=100)\n",
    "\n",
    "dev_visual_features_selected = variance_selection.fit_transform(dev_visual_features)\n",
    "print(dev_visual_features_selected.shape)\n",
    "dev_visual_features_selected_0 = bestk_selection_0.fit_transform(dev_visual_features_selected, dev_annotations[:,0])\n",
    "dev_visual_features_selected_1 = bestk_selection_1.fit_transform(dev_visual_features_selected, dev_annotations[:,1])\n",
    "\n",
    "test_visual_features = np.load('../data/test_visual_features.npy')\n",
    "test_annotations = np.load('../data/test_annotations.npy')\n",
    "test_visual_features = preprocessing.minmax_scale(test_visual_features, feature_range=(0, 1), axis=0)\n",
    "\n",
    "test_visual_features_selected = variance_selection.transform(test_visual_features)\n",
    "test_visual_features_selected_0 = bestk_selection_0.transform(test_visual_features_selected)\n",
    "test_visual_features_selected_1 = bestk_selection_1.transform(test_visual_features_selected)"
   ]
  },
  {
   "cell_type": "code",
   "execution_count": 42,
   "metadata": {},
   "outputs": [],
   "source": [
    "# decision tree\n",
    "model = DecisionTreeRegressor(max_depth=None, min_samples_split=2, random_state=0)\n",
    "model.fit(dev_visual_features_selected_0, dev_annotations[:,0])\n",
    "dt_pred_0 = model.predict(test_visual_features_selected_0)\n",
    "model.fit(dev_visual_features_selected_1, dev_annotations[:,1])\n",
    "dt_pred_1 = model.predict(test_visual_features_selected_1)"
   ]
  },
  {
   "cell_type": "code",
   "execution_count": 43,
   "metadata": {},
   "outputs": [
    {
     "name": "stdout",
     "output_type": "stream",
     "text": [
      "0.181803164128 (0.038671295421262068, 0.0034708632846477678)\n",
      "0.14576998356 (0.10025378891999739, 3.1232004544929717e-14)\n"
     ]
    }
   ],
   "source": [
    "print(mean_squared_error(test_annotations[:,0], dt_pred_0), pearsonr(test_annotations[:,0], dt_pred_0))\n",
    "print(mean_squared_error(test_annotations[:,1], dt_pred_1), pearsonr(test_annotations[:,1], dt_pred_1))"
   ]
  },
  {
   "cell_type": "code",
   "execution_count": 55,
   "metadata": {},
   "outputs": [],
   "source": [
    "# random forest\n",
    "model = RandomForestRegressor(n_estimators=10, criterion='mse',\n",
    "                              max_depth=None, min_samples_split=2,\n",
    "                              min_samples_leaf=1, min_weight_fraction_leaf=0.0,\n",
    "                              max_features='auto', max_leaf_nodes=None)"
   ]
  },
  {
   "cell_type": "code",
   "execution_count": 56,
   "metadata": {},
   "outputs": [],
   "source": [
    "model.fit(dev_visual_features_selected_0, dev_annotations[:,0])\n",
    "rf_pred_0 = model.predict(test_visual_features_selected_0)\n",
    "model.fit(dev_visual_features_selected_1, dev_annotations[:,1])\n",
    "rf_pred_1 = model.predict(test_visual_features_selected_1)"
   ]
  },
  {
   "cell_type": "code",
   "execution_count": 57,
   "metadata": {},
   "outputs": [
    {
     "name": "stdout",
     "output_type": "stream",
     "text": [
      "0.0997488590709 (0.097006061621300016, 2.043129143299932e-13)\n",
      "0.0953962143024 (0.042366559330818364, 0.0013640764297415974)\n"
     ]
    }
   ],
   "source": [
    "print(mean_squared_error(test_annotations[:,0], rf_pred_0), pearsonr(test_annotations[:,0], rf_pred_0))\n",
    "print(mean_squared_error(test_annotations[:,1], rf_pred_1), pearsonr(test_annotations[:,1], rf_pred_1))"
   ]
  },
  {
   "cell_type": "code",
   "execution_count": null,
   "metadata": {},
   "outputs": [],
   "source": []
  }
 ],
 "metadata": {
  "kernelspec": {
   "display_name": "Python 3",
   "language": "python",
   "name": "python3"
  },
  "language_info": {
   "codemirror_mode": {
    "name": "ipython",
    "version": 3
   },
   "file_extension": ".py",
   "mimetype": "text/x-python",
   "name": "python",
   "nbconvert_exporter": "python",
   "pygments_lexer": "ipython3",
   "version": "3.6.2"
  }
 },
 "nbformat": 4,
 "nbformat_minor": 2
}

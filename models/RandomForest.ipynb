{
 "cells": [
  {
   "cell_type": "code",
   "execution_count": 18,
   "metadata": {},
   "outputs": [],
   "source": [
    "from __future__ import print_function\n",
    "from __future__ import division\n",
    "\n",
    "import numpy as np\n",
    "import pandas as pd\n",
    "from sklearn import preprocessing\n",
    "from sklearn.ensemble import RandomForestRegressor\n",
    "from sklearn.tree import DecisionTreeRegressor\n",
    "from sklearn.metrics import mean_squared_error\n",
    "from scipy.stats import pearsonr"
   ]
  },
  {
   "cell_type": "code",
   "execution_count": 12,
   "metadata": {},
   "outputs": [],
   "source": [
    "dev_visual_features = np.load('../data/dev_visual_features.npy')\n",
    "dev_annotations = np.load('../data/dev_annotations.npy')\n",
    "dev_visual_features = preprocessing.minmax_scale(dev_visual_features, feature_range=(0, 1), axis=0)\n",
    "# dev_visual_features = preprocessing.scale(dev_visual_features, axis=0)\n",
    "test_visual_features = np.load('../data/test_visual_features.npy')\n",
    "test_annotations = np.load('../data/test_annotations.npy')\n",
    "test_visual_features = preprocessing.minmax_scale(test_visual_features, feature_range=(0, 1), axis=0)"
   ]
  },
  {
   "cell_type": "code",
   "execution_count": 13,
   "metadata": {},
   "outputs": [],
   "source": [
    "train_annotations = dev_annotations\n",
    "train_visual_features = dev_visual_features\n",
    "val_annotations = test_annotations\n",
    "val_visual_features = test_visual_features"
   ]
  },
  {
   "cell_type": "code",
   "execution_count": 19,
   "metadata": {},
   "outputs": [],
   "source": [
    "# decision tree\n",
    "model = DecisionTreeRegressor(max_depth=None, min_samples_split=2, random_state=0)\n",
    "model.fit(train_visual_features, train_annotations[:,0])\n",
    "dt_pred_0 = model.predict(val_visual_features)\n",
    "model.fit(train_visual_features, train_annotations[:,1])\n",
    "dt_pred_1 = model.predict(val_visual_features)"
   ]
  },
  {
   "cell_type": "code",
   "execution_count": 20,
   "metadata": {},
   "outputs": [
    {
     "name": "stdout",
     "output_type": "stream",
     "text": [
      "0.195363475228 (0.082123974716404646, 5.1389596587625255e-10)\n",
      "0.141548677129 (0.071358156095997036, 6.7445111062923786e-08)\n"
     ]
    }
   ],
   "source": [
    "print(mean_squared_error(val_annotations[:,0], dt_pred_0), pearsonr(val_annotations[:,0], dt_pred_0))\n",
    "print(mean_squared_error(val_annotations[:,1], dt_pred_1), pearsonr(val_annotations[:,1], dt_pred_1))"
   ]
  },
  {
   "cell_type": "code",
   "execution_count": 21,
   "metadata": {},
   "outputs": [],
   "source": [
    "# random forest\n",
    "model = RandomForestRegressor(n_estimators=10, criterion='mse',\n",
    "                              max_depth=None, min_samples_split=2,\n",
    "                              min_samples_leaf=1, min_weight_fraction_leaf=0.0,\n",
    "                              max_features='auto', max_leaf_nodes=None)"
   ]
  },
  {
   "cell_type": "code",
   "execution_count": 22,
   "metadata": {},
   "outputs": [],
   "source": [
    "model.fit(train_visual_features, train_annotations[:,0])\n",
    "rf_pred_0 = model.predict(val_visual_features)\n",
    "model.fit(train_visual_features, train_annotations[:,1])\n",
    "rf_pred_1 = model.predict(val_visual_features)"
   ]
  },
  {
   "cell_type": "code",
   "execution_count": 23,
   "metadata": {},
   "outputs": [
    {
     "name": "stdout",
     "output_type": "stream",
     "text": [
      "0.0966436154181 (0.10056000045381651, 2.6081009864262603e-14)\n",
      "0.100282298283 (-0.038439952406742438, 0.0036709459962088837)\n"
     ]
    }
   ],
   "source": [
    "print(mean_squared_error(val_annotations[:,0], rf_pred_0), pearsonr(val_annotations[:,0], rf_pred_0))\n",
    "print(mean_squared_error(val_annotations[:,1], rf_pred_1), pearsonr(val_annotations[:,1], rf_pred_1))"
   ]
  },
  {
   "cell_type": "code",
   "execution_count": null,
   "metadata": {},
   "outputs": [],
   "source": []
  }
 ],
 "metadata": {
  "kernelspec": {
   "display_name": "Python 3",
   "language": "python",
   "name": "python3"
  },
  "language_info": {
   "codemirror_mode": {
    "name": "ipython",
    "version": 3
   },
   "file_extension": ".py",
   "mimetype": "text/x-python",
   "name": "python",
   "nbconvert_exporter": "python",
   "pygments_lexer": "ipython3",
   "version": "3.6.2"
  }
 },
 "nbformat": 4,
 "nbformat_minor": 2
}

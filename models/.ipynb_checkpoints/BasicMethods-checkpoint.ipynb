{
 "cells": [
  {
   "cell_type": "code",
   "execution_count": 1,
   "metadata": {
    "collapsed": true
   },
   "outputs": [],
   "source": [
    "from __future__ import print_function\n",
    "from __future__ import division\n",
    "\n",
    "import numpy as np\n",
    "import pandas as pd\n",
    "from sklearn import preprocessing\n",
    "from sklearn.ensemble import RandomForestRegressor, RandomForestClassifier\n",
    "from sklearn.tree import DecisionTreeRegressor\n",
    "from sklearn.metrics import mean_squared_error, accuracy_score, precision_recall_fscore_support, average_precision_score\n",
    "from sklearn.feature_selection import SelectKBest, VarianceThreshold\n",
    "from sklearn.feature_selection import f_regression, f_classif\n",
    "from sklearn import svm\n",
    "from scipy.stats import pearsonr"
   ]
  },
  {
   "cell_type": "code",
   "execution_count": 2,
   "metadata": {},
   "outputs": [
    {
     "name": "stdout",
     "output_type": "stream",
     "text": [
      "(5274, 1271)\n",
      "(5274, 647)\n"
     ]
    }
   ],
   "source": [
    "dev_visual_features = np.load('../data/dev_uploaded_data/features.npy')\n",
    "dev_annotations = np.load('../data/dev_uploaded_data/valenceArousalAnnotations.npy')\n",
    "# ravel() here change a one-column vector to an array... i'm sorry, kuang\n",
    "dev_annotations_fear = np.load('../data/dev_uploaded_data/fearAnnotations.npy').ravel()\n",
    "dev_visual_features = preprocessing.minmax_scale(dev_visual_features, feature_range=(0, 1), axis=0)\n",
    "print(dev_visual_features.shape)\n",
    "\n",
    "variance_selection = VarianceThreshold(threshold=0.01)\n",
    "bestk_selection_0 = SelectKBest(f_regression, k=100)\n",
    "bestk_selection_1 = SelectKBest(f_regression, k=100)\n",
    "bestk_selection_fear = SelectKBest(f_classif, k=100)\n",
    "\n",
    "dev_visual_features_selected = variance_selection.fit_transform(dev_visual_features)\n",
    "print(dev_visual_features_selected.shape)\n",
    "dev_visual_features_selected_0 = bestk_selection_0.fit_transform(dev_visual_features_selected, dev_annotations[:,0])\n",
    "dev_visual_features_selected_1 = bestk_selection_1.fit_transform(dev_visual_features_selected, dev_annotations[:,1])\n",
    "dev_visual_features_selected_fear = bestk_selection_fear.fit_transform(dev_visual_features_selected, dev_annotations_fear)\n",
    "\n",
    "test_visual_features = np.load('../data/test_uploaded_data/features.npy')\n",
    "test_annotations = np.load('../data/test_uploaded_data/valenceArousalAnnotations.npy')\n",
    "test_annotations_fear = np.load('../data/test_uploaded_data/fearAnnotations.npy').ravel()\n",
    "test_visual_features = preprocessing.minmax_scale(test_visual_features, feature_range=(0, 1), axis=0)\n",
    "\n",
    "test_visual_features_selected = variance_selection.transform(test_visual_features)\n",
    "test_visual_features_selected_0 = bestk_selection_0.transform(test_visual_features_selected)\n",
    "test_visual_features_selected_1 = bestk_selection_1.transform(test_visual_features_selected)\n",
    "test_visual_features_selected_fear = bestk_selection_fear.transform(test_visual_features_selected)"
   ]
  },
  {
   "cell_type": "code",
   "execution_count": 3,
   "metadata": {
    "collapsed": true
   },
   "outputs": [],
   "source": [
    "# decision tree for task1\n",
    "model = DecisionTreeRegressor(max_depth=None, min_samples_split=2, random_state=0)\n",
    "model.fit(dev_visual_features_selected_0, dev_annotations[:,0])\n",
    "dt_pred_0 = model.predict(test_visual_features_selected_0)\n",
    "model.fit(dev_visual_features_selected_1, dev_annotations[:,1])\n",
    "dt_pred_1 = model.predict(test_visual_features_selected_1)"
   ]
  },
  {
   "cell_type": "code",
   "execution_count": 4,
   "metadata": {},
   "outputs": [
    {
     "name": "stdout",
     "output_type": "stream",
     "text": [
      "0.181803164128 (0.038671295421262068, 0.0034708632846477678)\n",
      "0.14576998356 (0.10025378891999739, 3.1232004544929717e-14)\n"
     ]
    }
   ],
   "source": [
    "print(mean_squared_error(test_annotations[:,0], dt_pred_0), pearsonr(test_annotations[:,0], dt_pred_0))\n",
    "print(mean_squared_error(test_annotations[:,1], dt_pred_1), pearsonr(test_annotations[:,1], dt_pred_1))"
   ]
  },
  {
   "cell_type": "code",
   "execution_count": 5,
   "metadata": {
    "collapsed": true
   },
   "outputs": [],
   "source": [
    "# random forest for task1\n",
    "model = RandomForestRegressor(n_estimators=10, criterion='mse',\n",
    "                              max_depth=None, min_samples_split=2,\n",
    "                              min_samples_leaf=1, min_weight_fraction_leaf=0.0,\n",
    "                              max_features='auto', max_leaf_nodes=None)"
   ]
  },
  {
   "cell_type": "code",
   "execution_count": 6,
   "metadata": {
    "collapsed": true
   },
   "outputs": [],
   "source": [
    "model.fit(dev_visual_features_selected_0, dev_annotations[:,0])\n",
    "rf_pred_0 = model.predict(test_visual_features_selected_0)\n",
    "model.fit(dev_visual_features_selected_1, dev_annotations[:,1])\n",
    "rf_pred_1 = model.predict(test_visual_features_selected_1)"
   ]
  },
  {
   "cell_type": "code",
   "execution_count": 7,
   "metadata": {},
   "outputs": [
    {
     "name": "stdout",
     "output_type": "stream",
     "text": [
      "0.100034259282 (0.11370887044135805, 6.7871115547251804e-18)\n",
      "0.094924938475 (0.085136340140280181, 1.1668686913383139e-10)\n"
     ]
    }
   ],
   "source": [
    "print(mean_squared_error(test_annotations[:,0], rf_pred_0), pearsonr(test_annotations[:,0], rf_pred_0))\n",
    "print(mean_squared_error(test_annotations[:,1], rf_pred_1), pearsonr(test_annotations[:,1], rf_pred_1))"
   ]
  },
  {
   "cell_type": "code",
   "execution_count": 8,
   "metadata": {
    "collapsed": true
   },
   "outputs": [],
   "source": [
    "# svm for task1\n",
    "model = svm.SVR()\n",
    "model.fit(dev_visual_features_selected_0, dev_annotations[:,0]) \n",
    "svm_pred_0 = model.predict(test_visual_features_selected_0)\n",
    "model.fit(dev_visual_features_selected_1, dev_annotations[:,1])\n",
    "svm_pred_1 = model.predict(test_visual_features_selected_1)"
   ]
  },
  {
   "cell_type": "code",
   "execution_count": 9,
   "metadata": {},
   "outputs": [
    {
     "name": "stdout",
     "output_type": "stream",
     "text": [
      "0.0934250989757 (0.12799985295287306, 2.7307591428711488e-22)\n",
      "0.101467338976 (-0.08835367388124897, 2.2620168743321234e-11)\n"
     ]
    }
   ],
   "source": [
    "print(mean_squared_error(test_annotations[:,0], svm_pred_0), pearsonr(test_annotations[:,0], svm_pred_0))\n",
    "print(mean_squared_error(test_annotations[:,1], svm_pred_1), pearsonr(test_annotations[:,1], svm_pred_1))"
   ]
  },
  {
   "cell_type": "code",
   "execution_count": 10,
   "metadata": {
    "collapsed": true
   },
   "outputs": [],
   "source": [
    "# random forest for task1=2\n",
    "model = RandomForestClassifier()\n",
    "model.fit(dev_visual_features_selected_fear, dev_annotations_fear)\n",
    "rf_pred_fear = model.predict(test_visual_features_selected_fear)"
   ]
  },
  {
   "cell_type": "code",
   "execution_count": 34,
   "metadata": {},
   "outputs": [
    {
     "name": "stdout",
     "output_type": "stream",
     "text": [
      "0.0\n",
      "0.0\n"
     ]
    }
   ],
   "source": [
    "print(test_annotations_fear.sum())\n",
    "print(rf_pred_fear.sum())"
   ]
  },
  {
   "cell_type": "code",
   "execution_count": 41,
   "metadata": {},
   "outputs": [
    {
     "ename": "ValueError",
     "evalue": "The truth value of an array with more than one element is ambiguous. Use a.any() or a.all()",
     "output_type": "error",
     "traceback": [
      "\u001b[1;31m---------------------------------------------------------------------------\u001b[0m",
      "\u001b[1;31mValueError\u001b[0m                                Traceback (most recent call last)",
      "\u001b[1;32m<ipython-input-41-cef49ab14e2d>\u001b[0m in \u001b[0;36m<module>\u001b[1;34m()\u001b[0m\n\u001b[0;32m      1\u001b[0m \u001b[0mrf_pred_fear\u001b[0m \u001b[1;33m=\u001b[0m \u001b[0mnp\u001b[0m\u001b[1;33m.\u001b[0m\u001b[0marray\u001b[0m\u001b[1;33m(\u001b[0m\u001b[0mrf_pred_fear\u001b[0m\u001b[1;33m,\u001b[0m \u001b[0mdtype\u001b[0m\u001b[1;33m=\u001b[0m\u001b[0mnp\u001b[0m\u001b[1;33m.\u001b[0m\u001b[0mbool\u001b[0m\u001b[1;33m)\u001b[0m\u001b[1;33m\u001b[0m\u001b[0m\n\u001b[0;32m      2\u001b[0m \u001b[0mtest_annotations_fear\u001b[0m \u001b[1;33m=\u001b[0m \u001b[0mnp\u001b[0m\u001b[1;33m.\u001b[0m\u001b[0marray\u001b[0m\u001b[1;33m(\u001b[0m\u001b[0mtest_annotations_fear\u001b[0m\u001b[1;33m,\u001b[0m \u001b[0mdtype\u001b[0m\u001b[1;33m=\u001b[0m\u001b[0mnp\u001b[0m\u001b[1;33m.\u001b[0m\u001b[0mbool\u001b[0m\u001b[1;33m)\u001b[0m\u001b[1;33m\u001b[0m\u001b[0m\n\u001b[1;32m----> 3\u001b[1;33m \u001b[0mtp\u001b[0m \u001b[1;33m=\u001b[0m \u001b[1;33m(\u001b[0m\u001b[0mrf_pred_fear\u001b[0m \u001b[1;32mand\u001b[0m \u001b[0mtest_annotations_fear\u001b[0m\u001b[1;33m)\u001b[0m\u001b[1;33m.\u001b[0m\u001b[0msum\u001b[0m\u001b[1;33m(\u001b[0m\u001b[1;33m)\u001b[0m\u001b[1;33m\u001b[0m\u001b[0m\n\u001b[0m\u001b[0;32m      4\u001b[0m \u001b[0mfp\u001b[0m \u001b[1;33m=\u001b[0m \u001b[1;33m(\u001b[0m\u001b[1;33m(\u001b[0m\u001b[1;36m1\u001b[0m\u001b[1;33m-\u001b[0m \u001b[0mrf_pred_fear\u001b[0m\u001b[1;33m)\u001b[0m \u001b[1;32mand\u001b[0m \u001b[0mtest_annotations_fear\u001b[0m\u001b[1;33m)\u001b[0m\u001b[1;33m.\u001b[0m\u001b[0msum\u001b[0m\u001b[1;33m(\u001b[0m\u001b[1;33m)\u001b[0m\u001b[1;33m\u001b[0m\u001b[0m\n\u001b[0;32m      5\u001b[0m \u001b[0mfn\u001b[0m \u001b[1;33m=\u001b[0m \u001b[1;33m(\u001b[0m\u001b[1;33m(\u001b[0m\u001b[1;36m1\u001b[0m\u001b[1;33m-\u001b[0m \u001b[0mrf_pred_fear\u001b[0m\u001b[1;33m)\u001b[0m \u001b[1;32mand\u001b[0m \u001b[1;33m(\u001b[0m\u001b[1;36m1\u001b[0m\u001b[1;33m-\u001b[0m\u001b[0mtest_annotations_fear\u001b[0m\u001b[1;33m)\u001b[0m\u001b[1;33m)\u001b[0m\u001b[1;33m.\u001b[0m\u001b[0msum\u001b[0m\u001b[1;33m(\u001b[0m\u001b[1;33m)\u001b[0m\u001b[1;33m\u001b[0m\u001b[0m\n",
      "\u001b[1;31mValueError\u001b[0m: The truth value of an array with more than one element is ambiguous. Use a.any() or a.all()"
     ]
    }
   ],
   "source": [
    "rf_pred_fear = np.array(rf_pred_fear, dtype=np.bool)\n",
    "test_annotations_fear = np.array(test_annotations_fear, dtype=np.bool)\n",
    "tp = (rf_pred_fear & test_annotations_fear).sum()\n",
    "fp = ((1- rf_pred_fear) & test_annotations_fear).sum()\n",
    "fn = ((1- rf_pred_fear) & (1-test_annotations_fear)).sum()\n",
    "\n",
    "print(tp, fp, fn)\n",
    "    \n",
    "print(accuracy_score(test_annotations_fear, rf_pred_fear))\n",
    "print(precision_recall_fscore_support(list(test_annotations_fear), list(rf_pred_fear)))\n",
    "print(average_precision_score(test_annotations_fear, rf_pred_fear))"
   ]
  },
  {
   "cell_type": "code",
   "execution_count": 13,
   "metadata": {
    "collapsed": true
   },
   "outputs": [],
   "source": [
    "# random forest for task1=2\n",
    "model = svm.SVC()\n",
    "model.fit(dev_visual_features_selected_fear, dev_annotations_fear)\n",
    "svm_pred_fear = model.predict(test_visual_features_selected_fear)"
   ]
  },
  {
   "cell_type": "code",
   "execution_count": 14,
   "metadata": {},
   "outputs": [
    {
     "name": "stdout",
     "output_type": "stream",
     "text": [
      "0.964273204904\n",
      "(array([ 0.9642732,  0.       ]), array([ 1.,  0.]), array([ 0.9818117,  0.       ]), array([5506,  204], dtype=int64))\n",
      "0.0357267950963\n"
     ]
    },
    {
     "name": "stderr",
     "output_type": "stream",
     "text": [
      "D:\\Anaconda3\\envs\\python36\\lib\\site-packages\\sklearn\\metrics\\classification.py:1135: UndefinedMetricWarning: Precision and F-score are ill-defined and being set to 0.0 in labels with no predicted samples.\n",
      "  'precision', 'predicted', average, warn_for)\n"
     ]
    }
   ],
   "source": [
    "print(accuracy_score(test_annotations_fear, svm_pred_fear))\n",
    "print(precision_recall_fscore_support(test_annotations_fear, svm_pred_fear))\n",
    "print(average_precision_score(test_annotations_fear, svm_pred_fear))"
   ]
  },
  {
   "cell_type": "code",
   "execution_count": null,
   "metadata": {
    "collapsed": true
   },
   "outputs": [],
   "source": []
  }
 ],
 "metadata": {
  "kernelspec": {
   "display_name": "Python 3",
   "language": "python",
   "name": "python3"
  },
  "language_info": {
   "codemirror_mode": {
    "name": "ipython",
    "version": 3
   },
   "file_extension": ".py",
   "mimetype": "text/x-python",
   "name": "python",
   "nbconvert_exporter": "python",
   "pygments_lexer": "ipython3",
   "version": "3.6.3"
  }
 },
 "nbformat": 4,
 "nbformat_minor": 2
}
